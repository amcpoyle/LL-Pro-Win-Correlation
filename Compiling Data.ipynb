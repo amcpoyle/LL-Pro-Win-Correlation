{
 "cells": [
  {
   "cell_type": "code",
   "execution_count": 1,
   "id": "8109a2bb",
   "metadata": {},
   "outputs": [],
   "source": [
    "from bs4 import BeautifulSoup\n",
    "from urllib.request import Request, urlopen\n",
    "import re\n",
    "import pandas as pd\n",
    "import numpy as np\n",
    "from pathlib import Path\n",
    "from math import floor"
   ]
  },
  {
   "cell_type": "markdown",
   "id": "d5858030",
   "metadata": {},
   "source": [
    "# Get all riders in RacerX Motocross Riders List"
   ]
  },
  {
   "cell_type": "code",
   "execution_count": 2,
   "id": "3e1ccce0",
   "metadata": {},
   "outputs": [],
   "source": [
    "alphabet = ['a', 'b', 'c', 'd', 'e', 'f', 'g', 'h', 'i', 'j', 'k', 'l', 'm',\n",
    "           'n', 'o', 'p', 'q', 'r', 's', 't', 'u', 'v', 'w', 'x', 'y', 'z']"
   ]
  },
  {
   "cell_type": "code",
   "execution_count": 3,
   "id": "613ae4b4",
   "metadata": {},
   "outputs": [],
   "source": [
    "all_riders = []"
   ]
  },
  {
   "cell_type": "code",
   "execution_count": 4,
   "id": "2c046707",
   "metadata": {},
   "outputs": [],
   "source": [
    "url = 'https://racerxonline.com/mx/riders/a'\n",
    "    \n",
    "hdr = {'User-Agent': 'Mozilla/5.0'}\n",
    "req = Request(url,headers=hdr)\n",
    "page = urlopen(req)\n",
    "\n",
    "soup = BeautifulSoup(page)\n",
    "\n",
    "riders = soup.find_all(\"a\", href=re.compile(\"/rider/\"))\n",
    "test = soup.find_all('h3', class_='link_title')"
   ]
  },
  {
   "cell_type": "code",
   "execution_count": 5,
   "id": "4f949817",
   "metadata": {},
   "outputs": [],
   "source": [
    "for letter in alphabet:\n",
    "    # print(letter)\n",
    "    url = 'https://racerxonline.com/mx/riders/{}'.format(letter)\n",
    "    \n",
    "    hdr = {'User-Agent': 'Mozilla/5.0'}\n",
    "    req = Request(url,headers=hdr)\n",
    "    page = urlopen(req)\n",
    "    \n",
    "    soup = BeautifulSoup(page)\n",
    "    \n",
    "    riders = soup.find_all(class_='link_title')\n",
    "        \n",
    "    riders_list = [rider.text for rider in riders]\n",
    "    \n",
    "    all_riders = all_riders + riders_list"
   ]
  },
  {
   "cell_type": "code",
   "execution_count": 6,
   "id": "4e5f6bc3",
   "metadata": {},
   "outputs": [
    {
     "data": {
      "text/plain": [
       "' Darryl Zumstein '"
      ]
     },
     "execution_count": 6,
     "metadata": {},
     "output_type": "execute_result"
    }
   ],
   "source": [
    "all_riders[-1]"
   ]
  },
  {
   "cell_type": "code",
   "execution_count": 7,
   "id": "baed4bff",
   "metadata": {},
   "outputs": [],
   "source": [
    "all_riders = [r.strip() for r in all_riders]"
   ]
  },
  {
   "cell_type": "code",
   "execution_count": 8,
   "id": "5bb2b90b",
   "metadata": {},
   "outputs": [
    {
     "data": {
      "text/plain": [
       "'Darryl Zumstein'"
      ]
     },
     "execution_count": 8,
     "metadata": {},
     "output_type": "execute_result"
    }
   ],
   "source": [
    "all_riders[-1]"
   ]
  },
  {
   "cell_type": "code",
   "execution_count": 9,
   "id": "0adc7de7",
   "metadata": {},
   "outputs": [],
   "source": [
    "all_riders = [r.lower() for r in all_riders]"
   ]
  },
  {
   "cell_type": "markdown",
   "id": "9aa19dec",
   "metadata": {},
   "source": [
    "# Get these riders' Loretta's Results"
   ]
  },
  {
   "cell_type": "code",
   "execution_count": 10,
   "id": "c0e5b222",
   "metadata": {},
   "outputs": [],
   "source": [
    "test = 'https://llvault.racerxonline.com/rider/destry-abbott/races'\n",
    "\n",
    "hdr = {'User-Agent': 'Mozilla/5.0'}\n",
    "req = Request(test,headers=hdr)\n",
    "page = urlopen(req)\n",
    "\n",
    "soup = BeautifulSoup(page)"
   ]
  },
  {
   "cell_type": "code",
   "execution_count": 11,
   "id": "eac3d637",
   "metadata": {},
   "outputs": [],
   "source": [
    "results = soup.find_all('table')"
   ]
  },
  {
   "cell_type": "code",
   "execution_count": 12,
   "id": "a72ff28c",
   "metadata": {},
   "outputs": [
    {
     "data": {
      "text/plain": [
       "1"
      ]
     },
     "execution_count": 12,
     "metadata": {},
     "output_type": "execute_result"
    }
   ],
   "source": [
    "len(results)"
   ]
  },
  {
   "cell_type": "code",
   "execution_count": 13,
   "id": "00f09b01",
   "metadata": {},
   "outputs": [
    {
     "data": {
      "text/plain": [
       "4"
      ]
     },
     "execution_count": 13,
     "metadata": {},
     "output_type": "execute_result"
    }
   ],
   "source": [
    "race = results[0].find_all('tr', class_='ll')\n",
    "len(race)"
   ]
  },
  {
   "cell_type": "code",
   "execution_count": 18,
   "id": "5935e24d",
   "metadata": {},
   "outputs": [],
   "source": [
    "info = race.find_all('td')"
   ]
  },
  {
   "cell_type": "code",
   "execution_count": 19,
   "id": "47303445",
   "metadata": {},
   "outputs": [],
   "source": [
    "position = info[0].text.strip()\n",
    "race_class = info[1].find('a').text.strip()\n",
    "date = info[2].text.strip()\n",
    "bike = info[3].text.strip()"
   ]
  },
  {
   "cell_type": "code",
   "execution_count": 20,
   "id": "1512bd43",
   "metadata": {},
   "outputs": [
    {
     "data": {
      "text/plain": [
       "'Vet 30 Plus'"
      ]
     },
     "execution_count": 20,
     "metadata": {},
     "output_type": "execute_result"
    }
   ],
   "source": [
    "race_class"
   ]
  },
  {
   "cell_type": "code",
   "execution_count": 21,
   "id": "e61a22c2",
   "metadata": {},
   "outputs": [
    {
     "data": {
      "text/plain": [
       "'destry abbott'"
      ]
     },
     "execution_count": 21,
     "metadata": {},
     "output_type": "execute_result"
    }
   ],
   "source": [
    "all_riders[0]"
   ]
  },
  {
   "cell_type": "code",
   "execution_count": 14,
   "id": "5073865d",
   "metadata": {},
   "outputs": [],
   "source": [
    "df_rider = []\n",
    "df_position = []\n",
    "df_class = []\n",
    "df_date = []\n",
    "df_bike = []"
   ]
  },
  {
   "cell_type": "code",
   "execution_count": 15,
   "id": "8280a160",
   "metadata": {},
   "outputs": [],
   "source": [
    "no_results = []"
   ]
  },
  {
   "cell_type": "code",
   "execution_count": 16,
   "id": "23d77af4",
   "metadata": {},
   "outputs": [],
   "source": [
    "for rider in all_riders:\n",
    "    name_formatted = rider.replace(' ', '-')\n",
    "    \n",
    "    ll_url = 'https://llvault.racerxonline.com/rider/{}/races'.format(name_formatted)\n",
    "    \n",
    "    try:\n",
    "        hdr = {'User-Agent': 'Mozilla/5.0'}\n",
    "        req = Request(ll_url,headers=hdr)\n",
    "        page = urlopen(req)\n",
    "    except:\n",
    "        no_results.append(rider)\n",
    "        continue\n",
    "\n",
    "    soup = BeautifulSoup(page)\n",
    "    \n",
    "    results = soup.find_all('table')\n",
    "    \n",
    "    race = results[0].find_all('tr', class_='ll')\n",
    "    \n",
    "    for i in range(len(race)):\n",
    "        race2 = race[i]\n",
    "        info = race2.find_all('td')\n",
    "\n",
    "        position = info[0].text.strip()\n",
    "        race_class = info[1].find('a').text.strip()\n",
    "        date = info[2].text.strip()\n",
    "        bike = info[3].text.strip()\n",
    "\n",
    "        df_rider.append(rider)\n",
    "        df_position.append(position)\n",
    "        df_class.append(race_class)\n",
    "        df_date.append(date)\n",
    "        df_bike.append(bike)"
   ]
  },
  {
   "cell_type": "code",
   "execution_count": 17,
   "id": "ac94ee05",
   "metadata": {},
   "outputs": [],
   "source": [
    "df = pd.DataFrame()"
   ]
  },
  {
   "cell_type": "code",
   "execution_count": 18,
   "id": "67338c32",
   "metadata": {},
   "outputs": [],
   "source": [
    "df['rider'] = df_rider\n",
    "df['overall_result'] = df_position\n",
    "df['race_class'] = df_class\n",
    "df['date'] = df_date\n",
    "df['bike'] = df_bike"
   ]
  },
  {
   "cell_type": "code",
   "execution_count": 19,
   "id": "57617447",
   "metadata": {},
   "outputs": [
    {
     "data": {
      "text/html": [
       "<div>\n",
       "<style scoped>\n",
       "    .dataframe tbody tr th:only-of-type {\n",
       "        vertical-align: middle;\n",
       "    }\n",
       "\n",
       "    .dataframe tbody tr th {\n",
       "        vertical-align: top;\n",
       "    }\n",
       "\n",
       "    .dataframe thead th {\n",
       "        text-align: right;\n",
       "    }\n",
       "</style>\n",
       "<table border=\"1\" class=\"dataframe\">\n",
       "  <thead>\n",
       "    <tr style=\"text-align: right;\">\n",
       "      <th></th>\n",
       "      <th>rider</th>\n",
       "      <th>overall_result</th>\n",
       "      <th>race_class</th>\n",
       "      <th>date</th>\n",
       "      <th>bike</th>\n",
       "    </tr>\n",
       "  </thead>\n",
       "  <tbody>\n",
       "    <tr>\n",
       "      <th>0</th>\n",
       "      <td>destry abbott</td>\n",
       "      <td>30</td>\n",
       "      <td>Plus 25</td>\n",
       "      <td>2005</td>\n",
       "      <td>Kawasaki</td>\n",
       "    </tr>\n",
       "    <tr>\n",
       "      <th>1</th>\n",
       "      <td>destry abbott</td>\n",
       "      <td>4</td>\n",
       "      <td>Vet 30 Plus</td>\n",
       "      <td>2005</td>\n",
       "      <td>Kawasaki</td>\n",
       "    </tr>\n",
       "    <tr>\n",
       "      <th>2</th>\n",
       "      <td>destry abbott</td>\n",
       "      <td>5</td>\n",
       "      <td>Vet 35+</td>\n",
       "      <td>2012</td>\n",
       "      <td>Kawasaki</td>\n",
       "    </tr>\n",
       "    <tr>\n",
       "      <th>3</th>\n",
       "      <td>destry abbott</td>\n",
       "      <td>3</td>\n",
       "      <td>Senior 40+</td>\n",
       "      <td>2012</td>\n",
       "      <td>Kawasaki</td>\n",
       "    </tr>\n",
       "    <tr>\n",
       "      <th>4</th>\n",
       "      <td>bryan abernathy</td>\n",
       "      <td>36</td>\n",
       "      <td>125 A Modified - Youth</td>\n",
       "      <td>1982</td>\n",
       "      <td>Kawasaki</td>\n",
       "    </tr>\n",
       "  </tbody>\n",
       "</table>\n",
       "</div>"
      ],
      "text/plain": [
       "             rider overall_result              race_class  date      bike\n",
       "0    destry abbott             30                 Plus 25  2005  Kawasaki\n",
       "1    destry abbott              4             Vet 30 Plus  2005  Kawasaki\n",
       "2    destry abbott              5                 Vet 35+  2012  Kawasaki\n",
       "3    destry abbott              3              Senior 40+  2012  Kawasaki\n",
       "4  bryan abernathy             36  125 A Modified - Youth  1982  Kawasaki"
      ]
     },
     "execution_count": 19,
     "metadata": {},
     "output_type": "execute_result"
    }
   ],
   "source": [
    "df.head()"
   ]
  },
  {
   "cell_type": "code",
   "execution_count": 20,
   "id": "80033846",
   "metadata": {},
   "outputs": [],
   "source": [
    "df.to_csv(\"C:/research_data/lorettas_results.csv\")"
   ]
  },
  {
   "cell_type": "code",
   "execution_count": 21,
   "id": "a0d0d7a1",
   "metadata": {},
   "outputs": [
    {
     "data": {
      "text/plain": [
       "9290"
      ]
     },
     "execution_count": 21,
     "metadata": {},
     "output_type": "execute_result"
    }
   ],
   "source": [
    "len(df)"
   ]
  },
  {
   "cell_type": "markdown",
   "id": "29e7f86d",
   "metadata": {},
   "source": [
    "# Get RacerX Data For Every Rider Available"
   ]
  },
  {
   "cell_type": "code",
   "execution_count": 2,
   "id": "8ad606c7",
   "metadata": {},
   "outputs": [],
   "source": [
    "df = pd.read_csv(\"C:/research_data/lorettas_results.csv\")"
   ]
  },
  {
   "cell_type": "code",
   "execution_count": 3,
   "id": "f90057e6",
   "metadata": {},
   "outputs": [],
   "source": [
    "unique_riders = list(df['rider'].unique())"
   ]
  },
  {
   "cell_type": "code",
   "execution_count": 4,
   "id": "c200d4ce",
   "metadata": {},
   "outputs": [],
   "source": [
    "no_racerx_results = []"
   ]
  },
  {
   "cell_type": "code",
   "execution_count": 5,
   "id": "618b8d5b",
   "metadata": {},
   "outputs": [],
   "source": [
    "url = 'https://racerxonline.com/rider/eli-tomac/races'\n",
    "hdr = {'User-Agent': 'Mozilla/5.0'}\n",
    "req = Request(url,headers=hdr)\n",
    "page = urlopen(req)\n",
    "\n",
    "soup = BeautifulSoup(page)"
   ]
  },
  {
   "cell_type": "code",
   "execution_count": 6,
   "id": "68156f78",
   "metadata": {},
   "outputs": [],
   "source": [
    "race_results = soup.find_all('table', class_='ui_table zebra mod_mobile')"
   ]
  },
  {
   "cell_type": "code",
   "execution_count": 7,
   "id": "f3f3ac86",
   "metadata": {},
   "outputs": [
    {
     "data": {
      "text/plain": [
       "' Denver '"
      ]
     },
     "execution_count": 7,
     "metadata": {},
     "output_type": "execute_result"
    }
   ],
   "source": [
    "# races are in <tr> tags\n",
    "tomac_races = race_results[0].find_all('tr')\n",
    "tomac_races = tomac_races[1:]\n",
    "example = tomac_races[0]\n",
    "example_results = example.find_all('td')\n",
    "example_results[1].find_all('a')[0].text"
   ]
  },
  {
   "cell_type": "code",
   "execution_count": 8,
   "id": "4658590c",
   "metadata": {},
   "outputs": [
    {
     "data": {
      "text/plain": [
       "[<td>22</td>,\n",
       " <td><div class=\"tag\">Supercross </div><a class=\"block\" href=\"/sx/2023/denver/450sx\"> Denver </a></td>,\n",
       " <td>450SX</td>,\n",
       " <td>May 6, 2023</td>,\n",
       " <td> <a class=\"block\" href=\"/brand/yamaha/2023\">Yamaha YZ450F</a> </td>]"
      ]
     },
     "execution_count": 8,
     "metadata": {},
     "output_type": "execute_result"
    }
   ],
   "source": [
    "example_results"
   ]
  },
  {
   "cell_type": "code",
   "execution_count": 5,
   "id": "a2a8e879",
   "metadata": {},
   "outputs": [],
   "source": [
    "riders = []\n",
    "positions = []\n",
    "races_ = []\n",
    "race_classes = []\n",
    "dates = []\n",
    "bikes = []"
   ]
  },
  {
   "cell_type": "code",
   "execution_count": 6,
   "id": "11670ba6",
   "metadata": {},
   "outputs": [],
   "source": [
    "rider_count = 0"
   ]
  },
  {
   "cell_type": "code",
   "execution_count": 7,
   "id": "80f51f61",
   "metadata": {},
   "outputs": [],
   "source": [
    "for rider in unique_riders:\n",
    "    rider_count += 1\n",
    "    \n",
    "    if floor(rider_count/len(unique_riders)*100) % 10 == 0 & floor(rider_count/len(unique_riders)*100) % 10 != 0:\n",
    "        print(floor(rider_count/len(unique_riders)))\n",
    "        \n",
    "    url_name = rider.replace(' ', '-')\n",
    "    url = 'https://racerxonline.com/rider/{}/races'.format(url_name)\n",
    "    \n",
    "    try:\n",
    "        hdr = {'User-Agent': 'Mozilla/5.0'}\n",
    "        req = Request(url,headers=hdr)\n",
    "        page = urlopen(req)\n",
    "    except:\n",
    "        no_racerx_results.append(rider)\n",
    "        continue\n",
    "        \n",
    "    soup = BeautifulSoup(page)\n",
    "    \n",
    "    race_results = soup.find_all('table', class_='ui_table zebra mod_mobile')\n",
    "    \n",
    "    races = race_results[0].find_all('tr')\n",
    "    races = races[1:]\n",
    "    \n",
    "    for i in range(len(races)):\n",
    "        example = races[i]\n",
    "        example_results = example.find_all('td')\n",
    "        \n",
    "        finish_pos = example_results[0].text.strip()\n",
    "        race = example_results[1].find_all('a')[0].text.strip()\n",
    "        race_class = example_results[2].text.strip()\n",
    "        race_date = example_results[3].text\n",
    "        bike = example_results[4].find_all('a')[0].text.strip()\n",
    "        \n",
    "        riders.append(rider)\n",
    "        positions.append(finish_pos)\n",
    "        races_.append(race)\n",
    "        race_classes.append(race_class)\n",
    "        dates.append(race_date)\n",
    "        bikes.append(bike)"
   ]
  },
  {
   "cell_type": "code",
   "execution_count": 8,
   "id": "7c7198a5",
   "metadata": {},
   "outputs": [],
   "source": [
    "racerx_df = pd.DataFrame()"
   ]
  },
  {
   "cell_type": "code",
   "execution_count": 9,
   "id": "d9a9b427",
   "metadata": {},
   "outputs": [],
   "source": [
    "racerx_df['rider'] = riders\n",
    "racerx_df['position'] = positions\n",
    "racerx_df['race'] = races_\n",
    "racerx_df['race_class'] = race_classes\n",
    "racerx_df['date'] = dates\n",
    "racerx_df['bike'] = bikes"
   ]
  },
  {
   "cell_type": "code",
   "execution_count": 10,
   "id": "3f78ecc2",
   "metadata": {},
   "outputs": [
    {
     "data": {
      "text/html": [
       "<div>\n",
       "<style scoped>\n",
       "    .dataframe tbody tr th:only-of-type {\n",
       "        vertical-align: middle;\n",
       "    }\n",
       "\n",
       "    .dataframe tbody tr th {\n",
       "        vertical-align: top;\n",
       "    }\n",
       "\n",
       "    .dataframe thead th {\n",
       "        text-align: right;\n",
       "    }\n",
       "</style>\n",
       "<table border=\"1\" class=\"dataframe\">\n",
       "  <thead>\n",
       "    <tr style=\"text-align: right;\">\n",
       "      <th></th>\n",
       "      <th>rider</th>\n",
       "      <th>position</th>\n",
       "      <th>race</th>\n",
       "      <th>race_class</th>\n",
       "      <th>date</th>\n",
       "      <th>bike</th>\n",
       "    </tr>\n",
       "  </thead>\n",
       "  <tbody>\n",
       "    <tr>\n",
       "      <th>0</th>\n",
       "      <td>destry abbott</td>\n",
       "      <td>40</td>\n",
       "      <td>Thunder Valley Motocross</td>\n",
       "      <td>MX</td>\n",
       "      <td>July 22, 2007</td>\n",
       "      <td>Kawasaki KX450F</td>\n",
       "    </tr>\n",
       "    <tr>\n",
       "      <th>1</th>\n",
       "      <td>bryan abernathy</td>\n",
       "      <td>19</td>\n",
       "      <td>Houston</td>\n",
       "      <td>125E/WSX</td>\n",
       "      <td>April 20, 1985</td>\n",
       "      <td>Honda</td>\n",
       "    </tr>\n",
       "    <tr>\n",
       "      <th>2</th>\n",
       "      <td>bryan abernathy</td>\n",
       "      <td>22</td>\n",
       "      <td>Washougal Motocross</td>\n",
       "      <td>125MX</td>\n",
       "      <td>August 19, 1984</td>\n",
       "      <td>Honda</td>\n",
       "    </tr>\n",
       "    <tr>\n",
       "      <th>3</th>\n",
       "      <td>bryan abernathy</td>\n",
       "      <td>13</td>\n",
       "      <td>Broome-Tioga Sports Center</td>\n",
       "      <td>125MX</td>\n",
       "      <td>July 22, 1984</td>\n",
       "      <td>Honda</td>\n",
       "    </tr>\n",
       "    <tr>\n",
       "      <th>4</th>\n",
       "      <td>bryan abernathy</td>\n",
       "      <td>18</td>\n",
       "      <td>RedBud Track 'n Trail</td>\n",
       "      <td>125MX</td>\n",
       "      <td>July 1, 1984</td>\n",
       "      <td>Honda</td>\n",
       "    </tr>\n",
       "  </tbody>\n",
       "</table>\n",
       "</div>"
      ],
      "text/plain": [
       "             rider position                        race race_class  \\\n",
       "0    destry abbott       40    Thunder Valley Motocross         MX   \n",
       "1  bryan abernathy       19                     Houston   125E/WSX   \n",
       "2  bryan abernathy       22         Washougal Motocross      125MX   \n",
       "3  bryan abernathy       13  Broome-Tioga Sports Center      125MX   \n",
       "4  bryan abernathy       18       RedBud Track 'n Trail      125MX   \n",
       "\n",
       "              date             bike  \n",
       "0    July 22, 2007  Kawasaki KX450F  \n",
       "1   April 20, 1985            Honda  \n",
       "2  August 19, 1984            Honda  \n",
       "3    July 22, 1984            Honda  \n",
       "4     July 1, 1984            Honda  "
      ]
     },
     "execution_count": 10,
     "metadata": {},
     "output_type": "execute_result"
    }
   ],
   "source": [
    "racerx_df.head()"
   ]
  },
  {
   "cell_type": "code",
   "execution_count": 11,
   "id": "65a1aba2",
   "metadata": {},
   "outputs": [],
   "source": [
    "racerx_df.to_csv(\"C:/research_data/racerx_results.csv\")"
   ]
  },
  {
   "cell_type": "code",
   "execution_count": null,
   "id": "fd6d28a8",
   "metadata": {},
   "outputs": [],
   "source": []
  }
 ],
 "metadata": {
  "kernelspec": {
   "display_name": "Python 3 (ipykernel)",
   "language": "python",
   "name": "python3"
  },
  "language_info": {
   "codemirror_mode": {
    "name": "ipython",
    "version": 3
   },
   "file_extension": ".py",
   "mimetype": "text/x-python",
   "name": "python",
   "nbconvert_exporter": "python",
   "pygments_lexer": "ipython3",
   "version": "3.8.5"
  }
 },
 "nbformat": 4,
 "nbformat_minor": 5
}
